{
 "cells": [
  {
   "cell_type": "code",
   "execution_count": 2,
   "metadata": {},
   "outputs": [],
   "source": [
    "import pandas as pd\n",
    "import numpy as np\n",
    "import matplotlib.pyplot as plt\n",
    "import seaborn as sns\n",
    "\n",
    "import os\n",
    "from bokeh.plotting import figure, ColumnDataSource\n",
    "from bokeh.models.widgets import Dropdown\n",
    "from bokeh.io import curdoc\n",
    "from bokeh.layouts import column\n",
    "\n",
    "from bokeh.models import BooleanFilter, CDSView, Select, Range1d, HoverTool\n",
    "from bokeh.palettes import Category20\n",
    "from bokeh.models.formatters import NumeralTickFormatter\n",
    "\n",
    "from bokeh.io import show\n",
    "import matplotlib.dates as mdate\n",
    "\n",
    "#file_name_before = 'Bitcoin_before_trading_clean'\n",
    "file_name_after = 'Binance_after_trading_clean'\n",
    "\n",
    "#Read data in\n",
    "def get_df (name):\n",
    "    df = pd.DataFrame(pd.read_csv(name +'.csv'))\n",
    "    return df\n"
   ]
  },
  {
   "cell_type": "code",
   "execution_count": 3,
   "metadata": {},
   "outputs": [],
   "source": [
    "#df_before_trading = get_df(file_name_before)\n",
    "df_after_trading = get_df(file_name_after)"
   ]
  },
  {
   "cell_type": "markdown",
   "metadata": {},
   "source": [
    "# Visualizing the data using Bokeh package"
   ]
  },
  {
   "cell_type": "code",
   "execution_count": 4,
   "metadata": {},
   "outputs": [],
   "source": [
    "# Define constants\n",
    "W_PLOT = 1500\n",
    "H_PLOT = 600\n",
    "TOOLS = 'pan,box_zoom,lasso_select,wheel_zoom,reset'\n",
    "\n",
    "#Color in the color map\n",
    "VBAR_WIDTH = 0.2\n",
    "RED = Category20[7][6]\n",
    "GREEN = Category20[5][4]\n",
    "\n",
    "BLUE = Category20[3][0]\n",
    "BLUE_LIGHT = Category20[3][1]\n",
    "\n",
    "ORANGE = Category20[3][2]\n",
    "PURPLE = Category20[9][8]\n",
    "BROWN = Category20[11][10]"
   ]
  },
  {
   "cell_type": "code",
   "execution_count": 21,
   "metadata": {},
   "outputs": [],
   "source": [
    "#Plot basic stock prices using bokeh package\n",
    "def plot_stock_prices(stock):\n",
    "    p = figure(plot_width=W_PLOT, plot_height=H_PLOT, tools=TOOLS,\n",
    "               title=\"Stock price\", toolbar_location='below')\n",
    "    \n",
    "    #prepare some boolean parameter\n",
    "    inc = stock.data['Close'] > stock.data['Open']\n",
    "    dec = stock.data['Open'] > stock.data['Close']\n",
    "    view_inc = CDSView(source=stock, filters=[BooleanFilter(inc)])\n",
    "    view_dec = CDSView(source=stock, filters=[BooleanFilter(dec)])\n",
    "    \n",
    "    #Draw the line of view_ic and view_dec \n",
    "    p.segment(x0='index', x1='index', y0='Low', y1='High', color=GREEN, source=stock, view=view_inc)\n",
    "    p.segment(x0='index', x1='index', y0='Low', y1='High', color=RED, source=stock, view=view_dec)\n",
    "    \n",
    "    #Set up the vertical bar\n",
    "    p.vbar(x='index', width=VBAR_WIDTH, top='Open', bottom='Close', fill_color=BLUE, line_color=BLUE,\n",
    "           source=stock,view=view_inc, name=\"price\")\n",
    "    p.vbar(x='index', width=VBAR_WIDTH, top='Open', bottom='Close', fill_color=RED, line_color=RED,\n",
    "           source=stock,view=view_dec, name=\"price\")\n",
    "    \n",
    "    #Adjusting label\n",
    "    p.xaxis.major_label_overrides = {\n",
    "         i+int(stock.data['index'][0]): date.strftime('%Y %b %d') for i, date in enumerate(pd.to_datetime(stock.data[\"Date\"]))\n",
    "    }\n",
    "\n",
    "    p.xaxis.bounds = (stock.data['index'][0], stock.data['index'][-1])\n",
    "\n",
    "    #Add ticks on the x-axis in the plot\n",
    "    p.x_range.range_padding = 0.05\n",
    "    p.xaxis.ticker.desired_num_ticks = 100 #Adding more might make the graph messy \n",
    "    p.xaxis.major_label_orientation = 3.14/4\n",
    "    \n",
    "    #Set up currency ticks on the y-axis\n",
    "    p.yaxis.formatter = NumeralTickFormatter(format = '$ 0,0[.]000')\n",
    "\n",
    "    \n",
    "    #Set up hover tool bar\n",
    "    p.add_tools(HoverTool(\n",
    "        tooltips= [\n",
    "            ('Date', '@Date{%F}'),\n",
    "            (\"Open\", \"@Open{$0,0.00}\"),\n",
    "            (\"Close\", \"@Close{$0,0.00}\"),\n",
    "            (\"Volume\", \"@Volume{($ 0.00 a)}\")\n",
    "        ],\n",
    "        \n",
    "        formatters = {\n",
    "            '@Date' : 'datetime', \n",
    "        },\n",
    "         \n",
    "        mode = 'vline'\n",
    "    ))\n",
    "    \n",
    "    #Set up the border and the background of the legend\n",
    "#     p.legend.location = \"top_left\"\n",
    "#     p.legend.border_line_alpha = 0\n",
    "#     p.legend.background_fill_alpha = 0\n",
    "#     p.legend.click_policy = \"mute\"\n",
    "    \n",
    "    return p"
   ]
  },
  {
   "cell_type": "code",
   "execution_count": null,
   "metadata": {},
   "outputs": [],
   "source": [
    "#Bokeh plot\n",
    "stock = ColumnDataSource(data = dict(Date = [], High = [], Low = [], Open = [], Close = [], Volumn = [], Marketcap = [], index = []))\n",
    "stock.data = stock.from_df(df_before_trading)\n",
    "elements = list()\n",
    "\n",
    "\n",
    "\n",
    "#Update the plot\n",
    "p_stock = plot_stock_prices(stock)\n",
    "elements.append(p_stock)\n",
    "\n",
    "curdoc().add_root(column(elements))\n",
    "curdoc().title = 'Bokeh stocks historical prices'\n",
    "\n",
    "show(p_stock)"
   ]
  },
  {
   "cell_type": "markdown",
   "metadata": {},
   "source": [
    "# Moving average plot"
   ]
  },
  {
   "cell_type": "code",
   "execution_count": 64,
   "metadata": {},
   "outputs": [],
   "source": [
    "#Moving average plot\n",
    "def plot_moving_average(df_name):\n",
    "    df_name.index = df_name['Date'] \n",
    "    plt.figure(figsize=(12,6))\n",
    "    df_name['Close'].rolling(window = 30).mean().plot(label = '30 day average')\n",
    "    df_name['Close'].plot(label = 'original')\n",
    "    plt.title('Moving Average')\n",
    "    plt.legend()"
   ]
  },
  {
   "cell_type": "code",
   "execution_count": 65,
   "metadata": {},
   "outputs": [
    {
     "data": {
      "image/png": "[encoded data removed]",
      "text/plain": [
       "<Figure size 864x432 with 1 Axes>"
      ]
     },
     "metadata": {
      "needs_background": "light"
     },
     "output_type": "display_data"
    }
   ],
   "source": [
    "plot_moving_average(df_after_trading)"
   ]
  },
  {
   "cell_type": "code",
   "execution_count": 22,
   "metadata": {},
   "outputs": [],
   "source": []
  }
 ],
 "metadata": {
  "kernelspec": {
   "display_name": "Python 3",
   "language": "python",
   "name": "python3"
  },
  "language_info": {
   "codemirror_mode": {
    "name": "ipython",
    "version": 3
   },
   "file_extension": ".py",
   "mimetype": "text/x-python",
   "name": "python",
   "nbconvert_exporter": "python",
   "pygments_lexer": "ipython3",
   "version": "3.8.5"
  }
 },
 "nbformat": 4,
 "nbformat_minor": 4
}
