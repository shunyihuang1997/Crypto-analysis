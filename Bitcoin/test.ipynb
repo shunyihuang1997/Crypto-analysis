{
 "cells": [
  {
   "cell_type": "code",
   "execution_count": 1,
   "metadata": {},
   "outputs": [],
   "source": [
    "import pandas as pd\n",
    "import numpy as np\n",
    "from sklearn.preprocessing import MinMaxScaler\n",
    "from pmdarima.arima import auto_arima\n",
    "import matplotlib.pyplot as plt\n",
    "from sklearn.metrics import mean_squared_error\n",
    "import math\n",
    "from keras.callbacks import EarlyStopping\n",
    "import datetime\n",
    "%matplotlib inline\n",
    "\n",
    "\n",
    "#Importing necessary packages and read data\n",
    "from keras.models import Sequential\n",
    "from keras.layers import Dense, LSTM, Activation, Dropout\n",
    "from keras.optimizers import Adam\n",
    "from sklearn.utils import shuffle\n",
    "from sklearn.metrics import mean_absolute_error\n",
    "\n",
    "\n",
    "file_name_before = 'Bitcoin_before_trading_clean.csv'\n",
    "df_before_trading = pd.DataFrame(pd.read_csv(file_name_before))\n",
    "\n",
    "file_name_after = 'Bitcoin_after_trading_clean.csv'\n",
    "df_after_trading = pd.DataFrame(pd.read_csv(file_name_after))\n",
    "\n"
   ]
  },
  {
   "cell_type": "code",
   "execution_count": 3,
   "metadata": {},
   "outputs": [
    {
     "name": "stderr",
     "output_type": "stream",
     "text": [
      "<ipython-input-3-e4d60a5759f8>:6: SettingWithCopyWarning: \n",
      "A value is trying to be set on a copy of a slice from a DataFrame.\n",
      "Try using .loc[row_indexer,col_indexer] = value instead\n",
      "\n",
      "See the caveats in the documentation: https://pandas.pydata.org/pandas-docs/stable/user_guide/indexing.html#returning-a-view-versus-a-copy\n",
      "  multivariative_df_before['Prediction'] = df_after_trading['Close']\n"
     ]
    }
   ],
   "source": [
    "FEATURES = ['High', 'Low', 'Open','Close', 'Volume' , 'Marketcap']\n",
    "\n",
    "multivariative_df_before = pd.DataFrame(df_after_trading)\n",
    "multivariative_df_before = df_after_trading[FEATURES]\n",
    "#Create prediction column and set dummy values to prepare the data\n",
    "multivariative_df_before['Prediction'] = df_after_trading['Close']\n",
    "\n"
   ]
  },
  {
   "cell_type": "code",
   "execution_count": 4,
   "metadata": {},
   "outputs": [],
   "source": [
    "#Number of rows\n",
    "nrows = multivariative_df_before.shape[0]\n",
    "np_multivariative_df_before_unscaled = np.array(multivariative_df_before)\n",
    "np_multivariative_df_before_unscaled = np.reshape(np_multivariative_df_before_unscaled, (nrows, -1))\n",
    "\n",
    "\n",
    "#Transform data by scaling\n",
    "multivariative_scaler_before = MinMaxScaler(feature_range=(0,1))\n",
    "multivariative_scaler_data_before = multivariative_scaler_before.fit_transform(np_multivariative_df_before_unscaled)\n",
    "\n",
    "#\n",
    "scaler_pred = MinMaxScaler(feature_range=(0,1))\n",
    "df_close = pd.DataFrame(df_before_trading['Close'])\n",
    "close_scaled = scaler_pred.fit_transform(df_close)"
   ]
  },
  {
   "cell_type": "code",
   "execution_count": 5,
   "metadata": {},
   "outputs": [
    {
     "name": "stdout",
     "output_type": "stream",
     "text": [
      "(1905, 60, 7) (1905,)\n",
      "(655, 60, 7) (655,)\n"
     ]
    }
   ],
   "source": [
    "#Set up X_train and y_train\n",
    "sequence_length = 60\n",
    "train_data_len = math.ceil(multivariative_scaler_data_before.shape[0] * 0.75)\n",
    "train_data = multivariative_scaler_data_before[0:train_data_len, :]\n",
    "X_train, y_train = [], []\n",
    "\n",
    "for i in range(60, train_data_len):\n",
    "    X_train.append(train_data[i-sequence_length:i, :])\n",
    "    y_train.append(train_data[i, 0])\n",
    "    \n",
    "#Convert X_train and y_train to np array\n",
    "X_train = np.array(X_train)\n",
    "y_train = np.array(y_train)\n",
    "\n",
    "\n",
    "\n",
    "#Create test data\n",
    "test_data = multivariative_scaler_data_before[train_data_len - sequence_length :, :]\n",
    "\n",
    "X_test, y_test = [], []\n",
    "test_data_len = test_data.shape[0]\n",
    "\n",
    "for i in range(sequence_length, test_data_len):\n",
    "    X_test.append(test_data[i-sequence_length :i, :])\n",
    "    y_test.append(test_data[i, 0])\n",
    "\n",
    "#Convert X_test and y_test to np array\n",
    "X_test, y_test = np.array(X_test), np.array(y_test)\n",
    "\n",
    "print(X_train.shape, y_train.shape)\n",
    "print(X_test.shape, y_test.shape)"
   ]
  },
  {
   "cell_type": "code",
   "execution_count": 6,
   "metadata": {},
   "outputs": [],
   "source": [
    "#Set up sequential model\n",
    "multivariative_model = Sequential()\n",
    "\n",
    "#model with 600 neurons\n",
    "n_neurons = X_train.shape[1] * X_train.shape[2]\n",
    "multivariative_model.add(LSTM(n_neurons, return_sequences=False))\n",
    "multivariative_model.add(Dense(64))\n",
    "multivariative_model.add(Dense(1, activation = 'relu'))\n",
    "\n",
    "#Compile \n",
    "multivariative_model.compile(optimizer='adam', loss='mean_squared_error',metrics=['accuracy'])"
   ]
  },
  {
   "cell_type": "code",
   "execution_count": 7,
   "metadata": {},
   "outputs": [
    {
     "name": "stdout",
     "output_type": "stream",
     "text": [
      "Epoch 1/10\n",
      "7/7 [==============================] - 4s 404ms/step - loss: 6.6666e-04 - accuracy: 4.1671e-04 - val_loss: 7.1369e-04 - val_accuracy: 0.0000e+00\n",
      "Epoch 2/10\n",
      "7/7 [==============================] - 2s 333ms/step - loss: 1.2699e-04 - accuracy: 7.8130e-04 - val_loss: 0.0024 - val_accuracy: 0.0000e+00\n",
      "Epoch 3/10\n",
      "7/7 [==============================] - 2s 338ms/step - loss: 8.0581e-05 - accuracy: 0.0011 - val_loss: 0.0011 - val_accuracy: 0.0000e+00\n",
      "Epoch 4/10\n",
      "7/7 [==============================] - 2s 338ms/step - loss: 3.8040e-05 - accuracy: 2.9171e-04 - val_loss: 7.0471e-04 - val_accuracy: 0.0000e+00\n",
      "Epoch 5/10\n",
      "7/7 [==============================] - 2s 341ms/step - loss: 6.4710e-06 - accuracy: 5.7296e-04 - val_loss: 4.9163e-04 - val_accuracy: 0.0000e+00\n",
      "Epoch 6/10\n",
      "7/7 [==============================] - 2s 344ms/step - loss: 1.0074e-05 - accuracy: 7.8130e-04 - val_loss: 1.0748e-04 - val_accuracy: 0.0000e+00\n",
      "Epoch 7/10\n",
      "7/7 [==============================] - 2s 347ms/step - loss: 1.9848e-06 - accuracy: 5.7296e-04 - val_loss: 2.6651e-04 - val_accuracy: 0.0000e+00\n",
      "Epoch 8/10\n",
      "7/7 [==============================] - 2s 350ms/step - loss: 3.4005e-06 - accuracy: 1.8755e-04 - val_loss: 1.0342e-04 - val_accuracy: 0.0000e+00\n",
      "Epoch 9/10\n",
      "7/7 [==============================] - 2s 348ms/step - loss: 1.7999e-06 - accuracy: 0.0017 - val_loss: 1.0559e-04 - val_accuracy: 0.0000e+00\n",
      "Epoch 10/10\n",
      "7/7 [==============================] - 2s 348ms/step - loss: 1.7733e-06 - accuracy: 7.8130e-04 - val_loss: 1.3744e-04 - val_accuracy: 0.0000e+00\n"
     ]
    }
   ],
   "source": [
    "epochs_size = 10\n",
    "#early_stop = EarlyStopping(monitor='loss', patience=2, verbose=1)\n",
    "multi_history = multivariative_model.fit(X_train, y_train, batch_size=200, epochs=epochs_size,\n",
    "                                         validation_split=0.3)"
   ]
  },
  {
   "cell_type": "code",
   "execution_count": 8,
   "metadata": {},
   "outputs": [
    {
     "name": "stdout",
     "output_type": "stream",
     "text": [
      "0.021635185929308198 \t 0.016704881856742664\n"
     ]
    }
   ],
   "source": [
    "\n",
    "#Prediction\n",
    "multi_prediction = multivariative_model.predict(X_test)\n",
    "\n",
    "#RMSE\n",
    "multi_RMSE = np.sqrt(mean_squared_error(multi_prediction, y_test))\n",
    "\n",
    "#MAE\n",
    "multi_MAE = mean_absolute_error(multi_prediction, y_test)\n",
    "\n",
    "print(multi_RMSE, '\\t', multi_MAE)"
   ]
  },
  {
   "cell_type": "code",
   "execution_count": 9,
   "metadata": {},
   "outputs": [],
   "source": [
    "multi_prediction_unscaled = scaler_pred.inverse_transform(multi_prediction)"
   ]
  },
  {
   "cell_type": "code",
   "execution_count": 10,
   "metadata": {},
   "outputs": [
    {
     "name": "stdout",
     "output_type": "stream",
     "text": [
      "Mean Absolute Percentage Error (MAPE): 63.01 %\n",
      "Median Absolute Percentage Error (MDAPE): 29.37 %\n"
     ]
    }
   ],
   "source": [
    "# Mean Absolute Percentage Error (MAPE)\n",
    "MAPE = np.mean((np.abs(np.subtract(y_test, multi_prediction)/ y_test))) * 100\n",
    "print('Mean Absolute Percentage Error (MAPE): ' + str(np.round(MAPE, 2)) + ' %')\n",
    "\n",
    "# Median Absolute Percentage Error (MDAPE)\n",
    "MDAPE = np.median((np.abs(np.subtract(y_test, multi_prediction)/ y_test)) ) * 100\n",
    "print('Median Absolute Percentage Error (MDAPE): ' + str(np.round(MDAPE, 2)) + ' %')"
   ]
  },
  {
   "cell_type": "code",
   "execution_count": 11,
   "metadata": {},
   "outputs": [
    {
     "data": {
      "text/plain": [
       "[<matplotlib.lines.Line2D at 0x1948193bdc0>]"
      ]
     },
     "execution_count": 11,
     "metadata": {},
     "output_type": "execute_result"
    },
    {
     "data": {
      "image/png": "[encoded data removed]",
      "text/plain": [
       "<Figure size 432x288 with 1 Axes>"
      ]
     },
     "metadata": {
      "needs_background": "light"
     },
     "output_type": "display_data"
    }
   ],
   "source": [
    "#Get predicted value\n",
    "#multi_prediction_unscaled = multivariative_scaler_before.inverse_transform(multi_prediction)\n",
    "\n",
    "plt.plot(y_test)\n",
    "plt.plot(multi_prediction)"
   ]
  }
 ],
 "metadata": {
  "kernelspec": {
   "display_name": "Python 3",
   "language": "python",
   "name": "python3"
  },
  "language_info": {
   "codemirror_mode": {
    "name": "ipython",
    "version": 3
   },
   "file_extension": ".py",
   "mimetype": "text/x-python",
   "name": "python",
   "nbconvert_exporter": "python",
   "pygments_lexer": "ipython3",
   "version": "3.8.5"
  }
 },
 "nbformat": 4,
 "nbformat_minor": 2
}
